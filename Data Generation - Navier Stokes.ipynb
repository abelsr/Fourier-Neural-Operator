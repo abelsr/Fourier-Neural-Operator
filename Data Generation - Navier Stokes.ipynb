{
 "cells": [
  {
   "cell_type": "markdown",
   "metadata": {},
   "source": [
    "# Data generation for Navier Stokes\n",
    "\n",
    "The Navier Stokes equation is given by\n",
    "\n",
    "$$\n",
    "\\begin{align}\n",
    "\\partial_t w(x,t) + u(x,t) \\cdot \\nabla w(x,t) &= \\nu \\Delta w(x,t) + f(x)\\\\\n",
    "\\nabla \\cdot u(x,t) &= 0\\\\\n",
    "w(x,0) &= w_0(x)\n",
    "\\end{align}\n",
    "$$\n",
    "\n",
    "where $w(x,t)$ is the velocity field, $u(x,t)$ is the vortex field, $\\nu$ is the viscosity, and $f(x)$ is the forcing term."
   ]
  },
  {
   "cell_type": "markdown",
   "metadata": {},
   "source": [
    "## Libraries\n"
   ]
  },
  {
   "cell_type": "code",
   "execution_count": 4,
   "metadata": {},
   "outputs": [
    {
     "name": "stdout",
     "output_type": "stream",
     "text": [
      "GPU 0 : NVIDIA GeForce RTX 3050 Laptop GPU\n"
     ]
    }
   ],
   "source": [
    "# PyTorch\n",
    "import torch\n",
    "\n",
    "# Math\n",
    "import math\n",
    "\n",
    "# Scipy\n",
    "import scipy.io\n",
    "\n",
    "# Timeit for measuring execution time\n",
    "from timeit import default_timer\n",
    "\n",
    "# Matplotlib\n",
    "import matplotlib.pyplot as plt\n",
    "\n",
    "# Get the device\n",
    "device = torch.device('cuda' if torch.cuda.is_available() else 'cpu')\n",
    "\n",
    "# Print GPUs device name\n",
    "if torch.cuda.is_available():\n",
    "    for i in range(torch.cuda.device_count()):\n",
    "        print(\"GPU\",i,\":\",torch.cuda.get_device_name(i))"
   ]
  },
  {
   "cell_type": "markdown",
   "metadata": {},
   "source": [
    "## Function to create random initial conditions"
   ]
  },
  {
   "cell_type": "code",
   "execution_count": 11,
   "metadata": {},
   "outputs": [],
   "source": [
    "class GaussianRF(object):\n",
    "\n",
    "    def __init__(self, dim, size, alpha=2, tau=3, sigma=None, boundary=\"periodic\", device=None):\n",
    "\n",
    "        self.dim = dim\n",
    "        self.device = device\n",
    "\n",
    "        if sigma is None:\n",
    "            sigma = tau**(0.5*(2*alpha - self.dim))\n",
    "\n",
    "        k_max = size//2\n",
    "\n",
    "        if dim == 1:\n",
    "            k = torch.cat((torch.arange(start=0, end=k_max, step=1, device=device), torch.arange(start=-k_max, end=0, step=1, device=device)), 0)\n",
    "\n",
    "            self.sqrt_eig = size*math.sqrt(2.0)*sigma*((4*(math.pi**2)*(k**2) + tau**2)**(-alpha/2.0))\n",
    "            self.sqrt_eig[0] = 0.0\n",
    "\n",
    "        elif dim == 2:\n",
    "            wavenumers = torch.cat((torch.arange(start=0, end=k_max, step=1, device=device), \\\n",
    "                                    torch.arange(start=-k_max, end=0, step=1, device=device)), 0).repeat(size,1)\n",
    "\n",
    "            k_x = wavenumers.transpose(0,1)\n",
    "            k_y = wavenumers\n",
    "\n",
    "            self.sqrt_eig = (size**2)*math.sqrt(2.0)*sigma*((4*(math.pi**2)*(k_x**2 + k_y**2) + tau**2)**(-alpha/2.0))\n",
    "            self.sqrt_eig[0,0] = 0.0\n",
    "\n",
    "        elif dim == 3:\n",
    "            wavenumers = torch.cat((torch.arange(start=0, end=k_max, step=1, device=device), \\\n",
    "                                    torch.arange(start=-k_max, end=0, step=1, device=device)), 0).repeat(size,size,1)\n",
    "\n",
    "            k_x = wavenumers.transpose(1,2)\n",
    "            k_y = wavenumers\n",
    "            k_z = wavenumers.transpose(0,2)\n",
    "\n",
    "            self.sqrt_eig = (size**3)*math.sqrt(2.0)*sigma*((4*(math.pi**2)*(k_x**2 + k_y**2 + k_z**2) + tau**2)**(-alpha/2.0))\n",
    "            self.sqrt_eig[0,0,0] = 0.0\n",
    "\n",
    "        self.size = []\n",
    "        for j in range(self.dim):\n",
    "            self.size.append(size)\n",
    "\n",
    "        self.size = tuple(self.size)\n",
    "\n",
    "    def sample(self, N):\n",
    "\n",
    "        coeff = torch.randn(N, *self.size, dtype=torch.cfloat, device=self.device)\n",
    "        coeff = self.sqrt_eig * coeff\n",
    "\n",
    "        return torch.fft.ifftn(coeff, dim=list(range(-1, -self.dim - 1, -1))).real"
   ]
  },
  {
   "cell_type": "code",
   "execution_count": 12,
   "metadata": {},
   "outputs": [],
   "source": [
    "gauss = GaussianRF(dim=2, size=32, alpha=2, tau=3, sigma=1, device=device)"
   ]
  },
  {
   "cell_type": "code",
   "execution_count": 14,
   "metadata": {},
   "outputs": [],
   "source": [
    "# Generate a sample\n",
    "sample = gauss.sample(1)"
   ]
  },
  {
   "cell_type": "code",
   "execution_count": 15,
   "metadata": {},
   "outputs": [
    {
     "data": {
      "image/png": "[encoded data removed]",
      "text/plain": [
       "<Figure size 640x480 with 1 Axes>"
      ]
     },
     "metadata": {},
     "output_type": "display_data"
    }
   ],
   "source": [
    "# Plot the sample\n",
    "plt.imshow(sample[0].cpu().numpy(), cmap='viridis')\n",
    "plt.show()"
   ]
  },
  {
   "cell_type": "markdown",
   "metadata": {},
   "source": [
    "## Function to solve Navier Stokes"
   ]
  },
  {
   "cell_type": "code",
   "execution_count": null,
   "metadata": {},
   "outputs": [],
   "source": [
    "# Function to solve Navier-Stokes equation in 2D\n",
    "def navier_stokes_2d(w0, f, visc, T, delta_t=1e-4, record_steps=1):\n",
    "\n",
    "    # Grid size - it must be power of 2\n",
    "    N = w0.size()[-1]\n",
    "\n",
    "    # Max wavenumber\n",
    "    k_max = math.floor(N/2.0)\n",
    "\n",
    "    # Total number of steps\n",
    "    steps = math.ceil(T/delta_t)\n",
    "\n",
    "    # Initial vortex field in Fourier space\n",
    "    w_h = torch.fft.rfft2(w0)\n",
    "\n",
    "    # Forcing field in Fourier space\n",
    "    f_h = torch.fft.rfft2(f)\n",
    "\n",
    "    # If the same forcing for the whole batch\n",
    "    if len(f_h.size()) < len(w_h.size()):\n",
    "        f_h = torch.unsqueeze(f_h, 0)\n",
    "\n",
    "    # Save the solution every certain number of steps\n",
    "    record_time = math.floor(steps/record_steps)\n",
    "\n",
    "    # Wave numbers in y-direction\n",
    "    k_y = torch.cat((torch.arange(start=0, end=k_max, step=1, device=w0.device), torch.arange(start=-k_max, end=0, step=1, device=w0.device)), 0).repeat(N,1)\n",
    "    \n",
    "    # Wave numbers in x-direction\n",
    "    k_x = k_y.transpose(0,1)\n",
    "\n",
    "    # Remove redundant modes\n",
    "    k_x = k_x[..., :k_max + 1]\n",
    "    k_y = k_y[..., :k_max + 1]\n",
    "\n",
    "    # Negative of the Laplacian in Fourier space\n",
    "    lap = 4*(math.pi**2)*(k_x**2 + k_y**2)\n",
    "    lap[0,0] = 1.0\n",
    "    \n",
    "    # Dealiasing mask\n",
    "    dealias = torch.unsqueeze(torch.logical_and(torch.abs(k_y) <= (2.0/3.0)*k_max, torch.abs(k_x) <= (2.0/3.0)*k_max).float(), 0)\n",
    "\n",
    "    # Save the solution and time\n",
    "    sol = torch.zeros(*w0.size(), record_steps, device=w0.device)\n",
    "    sol_t = torch.zeros(record_steps, device=w0.device)\n",
    "\n",
    "    #Record counter\n",
    "    c = 0\n",
    "    \n",
    "    #Physical time\n",
    "    t = 0.0\n",
    "    for j in range(steps):\n",
    "        \n",
    "        #Stream function in Fourier space: solve Poisson equation\n",
    "        psi_h = w_h / lap\n",
    "\n",
    "        #Velocity field in x-direction = psi_y\n",
    "        q = 2. * math.pi * k_y * 1j * psi_h\n",
    "        q = torch.fft.irfft2(q, s=(N, N))\n",
    "\n",
    "        #Velocity field in y-direction = -psi_x\n",
    "        v = -2. * math.pi * k_x * 1j * psi_h\n",
    "        v = torch.fft.irfft2(v, s=(N, N))\n",
    "\n",
    "        #Partial x of vorticity\n",
    "        w_x = 2. * math.pi * k_x * 1j * w_h\n",
    "        w_x = torch.fft.irfft2(w_x, s=(N, N))\n",
    "\n",
    "        #Partial y of vorticity\n",
    "        w_y = 2. * math.pi * k_y * 1j * w_h\n",
    "        w_y = torch.fft.irfft2(w_y, s=(N, N))\n",
    "\n",
    "        #Non-linear term (u.grad(w)): compute in physical space then back to Fourier space\n",
    "        F_h = torch.fft.rfft2(q*w_x + v*w_y)\n",
    "\n",
    "        #Dealias\n",
    "        F_h = dealias* F_h\n",
    "\n",
    "        #Crank-Nicolson update\n",
    "        w_h = (-delta_t*F_h + delta_t*f_h + (1.0 - 0.5*delta_t*visc*lap)*w_h)/(1.0 + 0.5*delta_t*visc*lap)\n",
    "\n",
    "        #Update real time (used only for recording)\n",
    "        t += delta_t\n",
    "\n",
    "        if (j+1) % record_time == 0:\n",
    "            #Solution in physical space\n",
    "            w = torch.fft.irfft2(w_h, s=(N, N))\n",
    "\n",
    "            #Record solution and time\n",
    "            sol[...,c] = w\n",
    "            sol_t[c] = t\n",
    "\n",
    "            c += 1\n",
    "\n",
    "    return sol, sol_t"
   ]
  },
  {
   "cell_type": "markdown",
   "metadata": {},
   "source": [
    "## Get data and save to MATLAB file\n",
    "\n",
    "We are going to generate data for the following parameters:\n",
    "\n",
    "- $\\nu =1\\times 10^{-3}$\n",
    "- $f(x, y) = 0.1 \\sin(2\\pi (x+y)) \\cos(2\\pi (x+y))$"
   ]
  },
  {
   "cell_type": "code",
   "execution_count": null,
   "metadata": {},
   "outputs": [],
   "source": [
    "#Resolution\n",
    "s = 256\n",
    "\n",
    "#Number of solutions to generate\n",
    "N = 20\n",
    "\n",
    "#Set up 2d GRF with covariance parameters\n",
    "GRF = GaussianRF(2, s, alpha=2.5, tau=7, device=device)\n",
    "\n",
    "# Time grid\n",
    "t = torch.linspace(0, 1, s+1, device=device)\n",
    "t = t[0:-1]\n",
    "\n",
    "# Forcing function: 0.1*(sin(2pi(x+y)) + cos(2pi(x+y)))\n",
    "X,Y = torch.meshgrid(t, t, indexing='ij')\n",
    "f = 0.1*(torch.sin(2*math.pi*(X + Y)) + torch.cos(2*math.pi*(X + Y)))\n",
    "\n",
    "#Number of snapshots from solution\n",
    "record_steps = 200\n",
    "\n",
    "#Inputs\n",
    "a = torch.zeros(N, s, s)\n",
    "#Solutions\n",
    "u = torch.zeros(N, s, s, record_steps)\n",
    "\n",
    "#Solve equations in batches (order of magnitude speed-up)\n",
    "\n",
    "#Batch size\n",
    "bsize = 20\n",
    "\n",
    "c = 0\n",
    "t0 = default_timer()\n",
    "for j in range(N//bsize):\n",
    "\n",
    "    #Sample random feilds\n",
    "    w0 = GRF.sample(bsize)\n",
    "\n",
    "    #Solve NS\n",
    "    sol, sol_t = navier_stokes_2d(w0, f, 1e-3, 50.0, 1e-4, record_steps)\n",
    "\n",
    "    a[c:(c+bsize),...] = w0\n",
    "    u[c:(c+bsize),...] = sol\n",
    "\n",
    "    c += bsize\n",
    "    t1 = default_timer()\n",
    "    print(j, c, t1-t0)\n",
    "\n",
    "scipy.io.savemat('ns_data.mat', mdict={'a': a.cpu().numpy(), 'u': u.cpu().numpy(), 't': sol_t.cpu().numpy()})"
   ]
  }
 ],
 "metadata": {
  "kernelspec": {
   "display_name": "pyfourier",
   "language": "python",
   "name": "python3"
  },
  "language_info": {
   "codemirror_mode": {
    "name": "ipython",
    "version": 3
   },
   "file_extension": ".py",
   "mimetype": "text/x-python",
   "name": "python",
   "nbconvert_exporter": "python",
   "pygments_lexer": "ipython3",
   "version": "3.8.0"
  }
 },
 "nbformat": 4,
 "nbformat_minor": 2
}
